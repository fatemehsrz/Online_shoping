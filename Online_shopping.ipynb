{
 "cells": [
  {
   "cell_type": "markdown",
   "metadata": {
    "colab": {
     "base_uri": "https://localhost:8080/"
    },
    "id": "l1yFT4TEbqAG",
    "outputId": "bfd2ed92-e048-4d1b-8db6-1a9ad3c55be0"
   },
   "source": [
    "\n",
    "# The customers who most likely  invite new customers with high spends in the shop\n"
   ]
  },
  {
   "cell_type": "markdown",
   "metadata": {},
   "source": [
    "## Setting the environment "
   ]
  },
  {
   "cell_type": "code",
   "execution_count": 16,
   "metadata": {
    "id": "EgeDRld2c9fR"
   },
   "outputs": [],
   "source": [
    "import pandas as pd\n",
    "import numpy as np\n",
    "import csv\n",
    "import random\n",
    "import numpy as np\n",
    "import matplotlib.pyplot as plt\n",
    "from matplotlib.pyplot import figure  \n",
    "from scipy import stats\n",
    "from collections import defaultdict\n",
    "from collections import Counter\n",
    "import warnings\n",
    "warnings.filterwarnings('ignore')\n",
    "from sklearn import utils"
   ]
  },
  {
   "cell_type": "markdown",
   "metadata": {
    "colab": {
     "base_uri": "https://localhost:8080/"
    },
    "id": "nqUFj_z9zxly",
    "outputId": "964d3b9f-bd04-4278-88ac-4bd8a3cc0d55"
   },
   "source": [
    "## Load the Data\n"
   ]
  },
  {
   "cell_type": "code",
   "execution_count": 17,
   "metadata": {
    "colab": {
     "base_uri": "https://localhost:8080/",
     "height": 206
    },
    "id": "uiFr7jrxc34O",
    "outputId": "e8710c8e-91a0-47f4-c0de-34b48448e479"
   },
   "outputs": [
    {
     "data": {
      "text/html": [
       "<div>\n",
       "<style scoped>\n",
       "    .dataframe tbody tr th:only-of-type {\n",
       "        vertical-align: middle;\n",
       "    }\n",
       "\n",
       "    .dataframe tbody tr th {\n",
       "        vertical-align: top;\n",
       "    }\n",
       "\n",
       "    .dataframe thead th {\n",
       "        text-align: right;\n",
       "    }\n",
       "</style>\n",
       "<table border=\"1\" class=\"dataframe\">\n",
       "  <thead>\n",
       "    <tr style=\"text-align: right;\">\n",
       "      <th></th>\n",
       "      <th>CUSTOMER_ID</th>\n",
       "      <th>CUSTOMER_CREATED_TIMESTAMP</th>\n",
       "      <th>CUSTOMER_GENDER</th>\n",
       "      <th>CUSTOMER_REGISTRATION_CHANNEL</th>\n",
       "      <th>INVITER_CUSTOMER_ID</th>\n",
       "      <th>QTY_ORDERS</th>\n",
       "      <th>REVENUE</th>\n",
       "      <th>FIRST_ORDER_DATE</th>\n",
       "      <th>LAST_ORDER_DATE</th>\n",
       "    </tr>\n",
       "  </thead>\n",
       "  <tbody>\n",
       "    <tr>\n",
       "      <th>0</th>\n",
       "      <td>1</td>\n",
       "      <td>2012-10-08 11:49:43.755</td>\n",
       "      <td>male</td>\n",
       "      <td>other</td>\n",
       "      <td>NaN</td>\n",
       "      <td>0</td>\n",
       "      <td>NaN</td>\n",
       "      <td>NaN</td>\n",
       "      <td>NaN</td>\n",
       "    </tr>\n",
       "    <tr>\n",
       "      <th>1</th>\n",
       "      <td>2</td>\n",
       "      <td>2013-08-26 15:44:11.173</td>\n",
       "      <td>female</td>\n",
       "      <td>viral</td>\n",
       "      <td>42921.0</td>\n",
       "      <td>0</td>\n",
       "      <td>NaN</td>\n",
       "      <td>NaN</td>\n",
       "      <td>NaN</td>\n",
       "    </tr>\n",
       "    <tr>\n",
       "      <th>2</th>\n",
       "      <td>3</td>\n",
       "      <td>2014-02-08 20:42:39.698</td>\n",
       "      <td>male</td>\n",
       "      <td>viral</td>\n",
       "      <td>42922.0</td>\n",
       "      <td>11</td>\n",
       "      <td>754.0499</td>\n",
       "      <td>2014-09-25 00:00:00.000</td>\n",
       "      <td>2017-01-29 00:00:00.000</td>\n",
       "    </tr>\n",
       "    <tr>\n",
       "      <th>3</th>\n",
       "      <td>4</td>\n",
       "      <td>2014-02-09 07:48:45.611</td>\n",
       "      <td>male</td>\n",
       "      <td>other</td>\n",
       "      <td>NaN</td>\n",
       "      <td>0</td>\n",
       "      <td>NaN</td>\n",
       "      <td>NaN</td>\n",
       "      <td>NaN</td>\n",
       "    </tr>\n",
       "    <tr>\n",
       "      <th>4</th>\n",
       "      <td>5</td>\n",
       "      <td>2014-04-02 01:09:20.439</td>\n",
       "      <td>female</td>\n",
       "      <td>viral</td>\n",
       "      <td>42923.0</td>\n",
       "      <td>0</td>\n",
       "      <td>NaN</td>\n",
       "      <td>NaN</td>\n",
       "      <td>NaN</td>\n",
       "    </tr>\n",
       "  </tbody>\n",
       "</table>\n",
       "</div>"
      ],
      "text/plain": [
       "   CUSTOMER_ID CUSTOMER_CREATED_TIMESTAMP CUSTOMER_GENDER  \\\n",
       "0            1    2012-10-08 11:49:43.755            male   \n",
       "1            2    2013-08-26 15:44:11.173          female   \n",
       "2            3    2014-02-08 20:42:39.698            male   \n",
       "3            4    2014-02-09 07:48:45.611            male   \n",
       "4            5    2014-04-02 01:09:20.439          female   \n",
       "\n",
       "  CUSTOMER_REGISTRATION_CHANNEL  INVITER_CUSTOMER_ID  QTY_ORDERS   REVENUE  \\\n",
       "0                         other                  NaN           0       NaN   \n",
       "1                         viral              42921.0           0       NaN   \n",
       "2                         viral              42922.0          11  754.0499   \n",
       "3                         other                  NaN           0       NaN   \n",
       "4                         viral              42923.0           0       NaN   \n",
       "\n",
       "          FIRST_ORDER_DATE          LAST_ORDER_DATE  \n",
       "0                      NaN                      NaN  \n",
       "1                      NaN                      NaN  \n",
       "2  2014-09-25 00:00:00.000  2017-01-29 00:00:00.000  \n",
       "3                      NaN                      NaN  \n",
       "4                      NaN                      NaN  "
      ]
     },
     "execution_count": 17,
     "metadata": {},
     "output_type": "execute_result"
    }
   ],
   "source": [
    "df=pd.read_csv('./data/bestsecret_analysis_test_data.csv')\n",
    "\n",
    "df.head()"
   ]
  },
  {
   "cell_type": "markdown",
   "metadata": {},
   "source": [
    "## Data Cleaning \n",
    "We need to select  columns which are relevant to the task. Additionally, we remove NaN-values from CUSTOMER_REGISTRATION_CHANNEL field:"
   ]
  },
  {
   "cell_type": "code",
   "execution_count": 18,
   "metadata": {},
   "outputs": [
    {
     "data": {
      "text/html": [
       "<div>\n",
       "<style scoped>\n",
       "    .dataframe tbody tr th:only-of-type {\n",
       "        vertical-align: middle;\n",
       "    }\n",
       "\n",
       "    .dataframe tbody tr th {\n",
       "        vertical-align: top;\n",
       "    }\n",
       "\n",
       "    .dataframe thead th {\n",
       "        text-align: right;\n",
       "    }\n",
       "</style>\n",
       "<table border=\"1\" class=\"dataframe\">\n",
       "  <thead>\n",
       "    <tr style=\"text-align: right;\">\n",
       "      <th></th>\n",
       "      <th>CUSTOMER_ID</th>\n",
       "      <th>CUSTOMER_REGISTRATION_CHANNEL</th>\n",
       "      <th>INVITER_CUSTOMER_ID</th>\n",
       "      <th>QTY_ORDERS</th>\n",
       "      <th>REVENUE</th>\n",
       "    </tr>\n",
       "  </thead>\n",
       "  <tbody>\n",
       "    <tr>\n",
       "      <th>0</th>\n",
       "      <td>1</td>\n",
       "      <td>other</td>\n",
       "      <td>NaN</td>\n",
       "      <td>0</td>\n",
       "      <td>NaN</td>\n",
       "    </tr>\n",
       "    <tr>\n",
       "      <th>1</th>\n",
       "      <td>2</td>\n",
       "      <td>viral</td>\n",
       "      <td>42921.0</td>\n",
       "      <td>0</td>\n",
       "      <td>NaN</td>\n",
       "    </tr>\n",
       "    <tr>\n",
       "      <th>2</th>\n",
       "      <td>3</td>\n",
       "      <td>viral</td>\n",
       "      <td>42922.0</td>\n",
       "      <td>11</td>\n",
       "      <td>754.0499</td>\n",
       "    </tr>\n",
       "    <tr>\n",
       "      <th>3</th>\n",
       "      <td>4</td>\n",
       "      <td>other</td>\n",
       "      <td>NaN</td>\n",
       "      <td>0</td>\n",
       "      <td>NaN</td>\n",
       "    </tr>\n",
       "    <tr>\n",
       "      <th>4</th>\n",
       "      <td>5</td>\n",
       "      <td>viral</td>\n",
       "      <td>42923.0</td>\n",
       "      <td>0</td>\n",
       "      <td>NaN</td>\n",
       "    </tr>\n",
       "  </tbody>\n",
       "</table>\n",
       "</div>"
      ],
      "text/plain": [
       "   CUSTOMER_ID CUSTOMER_REGISTRATION_CHANNEL  INVITER_CUSTOMER_ID  QTY_ORDERS  \\\n",
       "0            1                         other                  NaN           0   \n",
       "1            2                         viral              42921.0           0   \n",
       "2            3                         viral              42922.0          11   \n",
       "3            4                         other                  NaN           0   \n",
       "4            5                         viral              42923.0           0   \n",
       "\n",
       "    REVENUE  \n",
       "0       NaN  \n",
       "1       NaN  \n",
       "2  754.0499  \n",
       "3       NaN  \n",
       "4       NaN  "
      ]
     },
     "execution_count": 18,
     "metadata": {},
     "output_type": "execute_result"
    }
   ],
   "source": [
    "df= df[ ['CUSTOMER_ID', 'CUSTOMER_REGISTRATION_CHANNEL', 'INVITER_CUSTOMER_ID', 'QTY_ORDERS','REVENUE'] ]\n",
    "\n",
    "df= df[df['CUSTOMER_REGISTRATION_CHANNEL'].notna()]\n",
    "\n",
    "df.head()"
   ]
  },
  {
   "cell_type": "markdown",
   "metadata": {},
   "source": [
    "Here we check the data types. Later, INVITER_CUSTOMER_ID should be converted to int type."
   ]
  },
  {
   "cell_type": "code",
   "execution_count": 19,
   "metadata": {},
   "outputs": [
    {
     "data": {
      "text/plain": [
       "CUSTOMER_ID                        int64\n",
       "CUSTOMER_REGISTRATION_CHANNEL     object\n",
       "INVITER_CUSTOMER_ID              float64\n",
       "QTY_ORDERS                         int64\n",
       "REVENUE                          float64\n",
       "dtype: object"
      ]
     },
     "execution_count": 19,
     "metadata": {},
     "output_type": "execute_result"
    }
   ],
   "source": [
    "df.dtypes"
   ]
  },
  {
   "cell_type": "markdown",
   "metadata": {},
   "source": [
    "## Data Visualization\n",
    "Let us see how many of our customers are indeed invited by the others in the shop. As shown in the figure, 17.8% of customers are joined via others invitations."
   ]
  },
  {
   "cell_type": "code",
   "execution_count": 20,
   "metadata": {},
   "outputs": [
    {
     "name": "stdout",
     "output_type": "stream",
     "text": [
      "other 51\n",
      "viral 7642\n",
      "partnerprogram 264\n",
      "affiliate 34962\n"
     ]
    },
    {
     "data": {
      "image/png": "[encoded data removed]",
      "text/plain": [
       "<Figure size 640x560 with 1 Axes>"
      ]
     },
     "metadata": {},
     "output_type": "display_data"
    }
   ],
   "source": [
    "counter = Counter(df['CUSTOMER_REGISTRATION_CHANNEL'].tolist() )\n",
    "\n",
    "cas_counter={}\n",
    "for k,v in counter.items():\n",
    "     cas_counter[k]=v\n",
    "        \n",
    "     print(k,v)   \n",
    "\n",
    "\n",
    "labels_chart=[]\n",
    "sizes=[]\n",
    "for r in cas_counter:\n",
    "    \n",
    "    labels_chart.append(r)\n",
    "    sizes.append(cas_counter[r] )\n",
    "\n",
    "figure(figsize=(8, 7), dpi=80)\n",
    "\n",
    "colors=['g', 'r',  'b', 'y']\n",
    "\n",
    "plt.pie(sizes,labels=labels_chart, colors=colors, startangle=90, autopct='%1.1f%%', textprops={'fontsize': 14})\n",
    "\n",
    "plt.axis('equal')\n",
    "\n",
    "plt.show()"
   ]
  },
  {
   "cell_type": "markdown",
   "metadata": {},
   "source": [
    "Here, we convert INVITER_CUSTOMER_ID from float to int:"
   ]
  },
  {
   "cell_type": "code",
   "execution_count": 21,
   "metadata": {},
   "outputs": [
    {
     "data": {
      "text/html": [
       "<div>\n",
       "<style scoped>\n",
       "    .dataframe tbody tr th:only-of-type {\n",
       "        vertical-align: middle;\n",
       "    }\n",
       "\n",
       "    .dataframe tbody tr th {\n",
       "        vertical-align: top;\n",
       "    }\n",
       "\n",
       "    .dataframe thead th {\n",
       "        text-align: right;\n",
       "    }\n",
       "</style>\n",
       "<table border=\"1\" class=\"dataframe\">\n",
       "  <thead>\n",
       "    <tr style=\"text-align: right;\">\n",
       "      <th></th>\n",
       "      <th>CUSTOMER_ID</th>\n",
       "      <th>CUSTOMER_REGISTRATION_CHANNEL</th>\n",
       "      <th>INVITER_CUSTOMER_ID</th>\n",
       "      <th>QTY_ORDERS</th>\n",
       "      <th>REVENUE</th>\n",
       "    </tr>\n",
       "  </thead>\n",
       "  <tbody>\n",
       "    <tr>\n",
       "      <th>2</th>\n",
       "      <td>3</td>\n",
       "      <td>viral</td>\n",
       "      <td>42922</td>\n",
       "      <td>11</td>\n",
       "      <td>754.0499</td>\n",
       "    </tr>\n",
       "    <tr>\n",
       "      <th>8</th>\n",
       "      <td>9</td>\n",
       "      <td>viral</td>\n",
       "      <td>42925</td>\n",
       "      <td>1</td>\n",
       "      <td>101.8767</td>\n",
       "    </tr>\n",
       "    <tr>\n",
       "      <th>44</th>\n",
       "      <td>45</td>\n",
       "      <td>viral</td>\n",
       "      <td>42927</td>\n",
       "      <td>79</td>\n",
       "      <td>3257.0435</td>\n",
       "    </tr>\n",
       "    <tr>\n",
       "      <th>66</th>\n",
       "      <td>67</td>\n",
       "      <td>viral</td>\n",
       "      <td>42932</td>\n",
       "      <td>40</td>\n",
       "      <td>3447.0640</td>\n",
       "    </tr>\n",
       "    <tr>\n",
       "      <th>67</th>\n",
       "      <td>68</td>\n",
       "      <td>viral</td>\n",
       "      <td>42933</td>\n",
       "      <td>3</td>\n",
       "      <td>252.0335</td>\n",
       "    </tr>\n",
       "  </tbody>\n",
       "</table>\n",
       "</div>"
      ],
      "text/plain": [
       "    CUSTOMER_ID CUSTOMER_REGISTRATION_CHANNEL  INVITER_CUSTOMER_ID  \\\n",
       "2             3                         viral                42922   \n",
       "8             9                         viral                42925   \n",
       "44           45                         viral                42927   \n",
       "66           67                         viral                42932   \n",
       "67           68                         viral                42933   \n",
       "\n",
       "    QTY_ORDERS    REVENUE  \n",
       "2           11   754.0499  \n",
       "8            1   101.8767  \n",
       "44          79  3257.0435  \n",
       "66          40  3447.0640  \n",
       "67           3   252.0335  "
      ]
     },
     "execution_count": 21,
     "metadata": {},
     "output_type": "execute_result"
    }
   ],
   "source": [
    "df= df[df['INVITER_CUSTOMER_ID'].notna()]\n",
    "\n",
    "df= df[df['REVENUE'].notna()]\n",
    "\n",
    "df['INVITER_CUSTOMER_ID'] = df['INVITER_CUSTOMER_ID'].astype(float).astype(int)\n",
    "\n",
    "df.head()"
   ]
  },
  {
   "cell_type": "markdown",
   "metadata": {},
   "source": [
    "We need customers who are invited by others, thus select customers with the label \"viral\":"
   ]
  },
  {
   "cell_type": "code",
   "execution_count": 22,
   "metadata": {},
   "outputs": [
    {
     "data": {
      "text/html": [
       "<div>\n",
       "<style scoped>\n",
       "    .dataframe tbody tr th:only-of-type {\n",
       "        vertical-align: middle;\n",
       "    }\n",
       "\n",
       "    .dataframe tbody tr th {\n",
       "        vertical-align: top;\n",
       "    }\n",
       "\n",
       "    .dataframe thead th {\n",
       "        text-align: right;\n",
       "    }\n",
       "</style>\n",
       "<table border=\"1\" class=\"dataframe\">\n",
       "  <thead>\n",
       "    <tr style=\"text-align: right;\">\n",
       "      <th></th>\n",
       "      <th>CUSTOMER_ID</th>\n",
       "      <th>CUSTOMER_REGISTRATION_CHANNEL</th>\n",
       "      <th>INVITER_CUSTOMER_ID</th>\n",
       "      <th>QTY_ORDERS</th>\n",
       "      <th>REVENUE</th>\n",
       "    </tr>\n",
       "  </thead>\n",
       "  <tbody>\n",
       "    <tr>\n",
       "      <th>2</th>\n",
       "      <td>3</td>\n",
       "      <td>viral</td>\n",
       "      <td>42922</td>\n",
       "      <td>11</td>\n",
       "      <td>754.0499</td>\n",
       "    </tr>\n",
       "    <tr>\n",
       "      <th>8</th>\n",
       "      <td>9</td>\n",
       "      <td>viral</td>\n",
       "      <td>42925</td>\n",
       "      <td>1</td>\n",
       "      <td>101.8767</td>\n",
       "    </tr>\n",
       "    <tr>\n",
       "      <th>44</th>\n",
       "      <td>45</td>\n",
       "      <td>viral</td>\n",
       "      <td>42927</td>\n",
       "      <td>79</td>\n",
       "      <td>3257.0435</td>\n",
       "    </tr>\n",
       "    <tr>\n",
       "      <th>66</th>\n",
       "      <td>67</td>\n",
       "      <td>viral</td>\n",
       "      <td>42932</td>\n",
       "      <td>40</td>\n",
       "      <td>3447.0640</td>\n",
       "    </tr>\n",
       "    <tr>\n",
       "      <th>67</th>\n",
       "      <td>68</td>\n",
       "      <td>viral</td>\n",
       "      <td>42933</td>\n",
       "      <td>3</td>\n",
       "      <td>252.0335</td>\n",
       "    </tr>\n",
       "  </tbody>\n",
       "</table>\n",
       "</div>"
      ],
      "text/plain": [
       "    CUSTOMER_ID CUSTOMER_REGISTRATION_CHANNEL  INVITER_CUSTOMER_ID  \\\n",
       "2             3                         viral                42922   \n",
       "8             9                         viral                42925   \n",
       "44           45                         viral                42927   \n",
       "66           67                         viral                42932   \n",
       "67           68                         viral                42933   \n",
       "\n",
       "    QTY_ORDERS    REVENUE  \n",
       "2           11   754.0499  \n",
       "8            1   101.8767  \n",
       "44          79  3257.0435  \n",
       "66          40  3447.0640  \n",
       "67           3   252.0335  "
      ]
     },
     "execution_count": 22,
     "metadata": {},
     "output_type": "execute_result"
    }
   ],
   "source": [
    "df=df.loc[df['CUSTOMER_REGISTRATION_CHANNEL'] == \"viral\"]\n",
    "df.head()"
   ]
  },
  {
   "cell_type": "markdown",
   "metadata": {},
   "source": [
    "### Order Distribution"
   ]
  },
  {
   "cell_type": "code",
   "execution_count": 23,
   "metadata": {
    "id": "w4zRubEL7ifC"
   },
   "outputs": [
    {
     "name": "stdout",
     "output_type": "stream",
     "text": [
      "maximum number of orders: 752\n",
      "minimum number of orders: 1\n",
      "most frequent number of orders: (1, 554)\n"
     ]
    },
    {
     "data": {
      "image/png": "[encoded data removed]",
      "text/plain": [
       "<Figure size 648x432 with 1 Axes>"
      ]
     },
     "metadata": {
      "needs_background": "light"
     },
     "output_type": "display_data"
    }
   ],
   "source": [
    "fig, ax = plt.subplots()\n",
    "fig.set_size_inches(9, 6)\n",
    "\n",
    "ax.grid(True)\n",
    "ax.grid(linestyle=':')\n",
    "\n",
    "print('maximum number of orders:',df['QTY_ORDERS'].max())\n",
    "print('minimum number of orders:',df['QTY_ORDERS'].min())\n",
    "\n",
    "counter = Counter(df['QTY_ORDERS'].tolist() )\n",
    "\n",
    "print('most frequent number of orders:',counter.most_common(1)[0])\n",
    "\n",
    "ORDERS=df['QTY_ORDERS'].tolist()\n",
    "\n",
    "ORDERS.sort()\n",
    "hmean = np.mean(ORDERS)\n",
    "hstd = np.std(ORDERS)\n",
    "pdf = stats.norm.pdf(ORDERS, hmean, hstd)\n",
    "plt.plot(ORDERS, pdf, color= 'blue', linewidth=3)\n",
    "\n",
    "plt.xlabel('Number of orders', fontsize=15)\n",
    "plt.ylabel('Frequency', fontsize=15)\n",
    "plt.title('Order Distribution', fontsize=15)\n",
    "\n",
    "\n",
    "plt.tick_params(axis='both',labelsize=15)\n",
    "fig.tight_layout()\n",
    "plt.show()"
   ]
  },
  {
   "cell_type": "markdown",
   "metadata": {},
   "source": [
    "According to the order distribution, many of customers have a few number of orders, e.g. in the range of [1, 10]. The highest number of orders via the viral channel is 752 times. The curve is skewed, which means few customers indeed ordered high numbers of items."
   ]
  },
  {
   "cell_type": "markdown",
   "metadata": {},
   "source": [
    "### Revenue Distribution"
   ]
  },
  {
   "cell_type": "code",
   "execution_count": 24,
   "metadata": {},
   "outputs": [
    {
     "name": "stdout",
     "output_type": "stream",
     "text": [
      "maximum REVENUE: 214924.3695\n"
     ]
    },
    {
     "data": {
      "image/png": "[encoded data removed]",
      "text/plain": [
       "<Figure size 648x432 with 1 Axes>"
      ]
     },
     "metadata": {
      "needs_background": "light"
     },
     "output_type": "display_data"
    }
   ],
   "source": [
    "\n",
    "fig, ax = plt.subplots()\n",
    "fig.set_size_inches(9, 6)\n",
    "\n",
    "ax.grid(True)\n",
    "ax.grid(linestyle=':')\n",
    "\n",
    "print('maximum REVENUE:', df['REVENUE'].max())\n",
    "\n",
    "REVENUE=df['REVENUE'].tolist()\n",
    "\n",
    "\n",
    "REVENUE.sort()\n",
    "hmean = np.mean(REVENUE)\n",
    "hstd = np.std(REVENUE)\n",
    "pdf = stats.norm.pdf(REVENUE, hmean, hstd)\n",
    "plt.plot(REVENUE, pdf, color= 'r', linewidth=3)\n",
    "\n",
    "plt.xlabel('Revenue', fontsize=15)\n",
    "plt.ylabel('Frequency', fontsize=15)\n",
    "plt.title(' Revenue Distribution', fontsize=15)\n",
    "\n",
    "\n",
    "plt.tick_params(axis='both',labelsize=15)\n",
    "fig.tight_layout()\n",
    "plt.show()"
   ]
  },
  {
   "cell_type": "markdown",
   "metadata": {},
   "source": [
    " According to the revenue distribution, the highest revenue via the viral channel is around 214924.3695. The curve is skewed, which means few customers bring very high revenue to the company."
   ]
  },
  {
   "cell_type": "markdown",
   "metadata": {},
   "source": [
    "## Selecting the Customer List\n",
    "Here we group inviters based on revenue they brought to the company. Indeed, the revenue column shows how much income each inviter in total brought to the company."
   ]
  },
  {
   "cell_type": "code",
   "execution_count": 25,
   "metadata": {},
   "outputs": [
    {
     "data": {
      "text/html": [
       "<div>\n",
       "<style scoped>\n",
       "    .dataframe tbody tr th:only-of-type {\n",
       "        vertical-align: middle;\n",
       "    }\n",
       "\n",
       "    .dataframe tbody tr th {\n",
       "        vertical-align: top;\n",
       "    }\n",
       "\n",
       "    .dataframe thead th {\n",
       "        text-align: right;\n",
       "    }\n",
       "</style>\n",
       "<table border=\"1\" class=\"dataframe\">\n",
       "  <thead>\n",
       "    <tr style=\"text-align: right;\">\n",
       "      <th></th>\n",
       "      <th>CUSTOMER_ID</th>\n",
       "      <th>QTY_ORDERS</th>\n",
       "      <th>REVENUE</th>\n",
       "    </tr>\n",
       "    <tr>\n",
       "      <th>INVITER_CUSTOMER_ID</th>\n",
       "      <th></th>\n",
       "      <th></th>\n",
       "      <th></th>\n",
       "    </tr>\n",
       "  </thead>\n",
       "  <tbody>\n",
       "    <tr>\n",
       "      <th>43212</th>\n",
       "      <td>537</td>\n",
       "      <td>752</td>\n",
       "      <td>214924.3695</td>\n",
       "    </tr>\n",
       "    <tr>\n",
       "      <th>537</th>\n",
       "      <td>19674</td>\n",
       "      <td>300</td>\n",
       "      <td>43223.2377</td>\n",
       "    </tr>\n",
       "    <tr>\n",
       "      <th>44344</th>\n",
       "      <td>7846</td>\n",
       "      <td>133</td>\n",
       "      <td>28080.9605</td>\n",
       "    </tr>\n",
       "    <tr>\n",
       "      <th>44100</th>\n",
       "      <td>6168</td>\n",
       "      <td>223</td>\n",
       "      <td>21731.5239</td>\n",
       "    </tr>\n",
       "    <tr>\n",
       "      <th>43161</th>\n",
       "      <td>447</td>\n",
       "      <td>73</td>\n",
       "      <td>13928.3513</td>\n",
       "    </tr>\n",
       "    <tr>\n",
       "      <th>...</th>\n",
       "      <td>...</td>\n",
       "      <td>...</td>\n",
       "      <td>...</td>\n",
       "    </tr>\n",
       "    <tr>\n",
       "      <th>43160</th>\n",
       "      <td>446</td>\n",
       "      <td>1</td>\n",
       "      <td>-1.2866</td>\n",
       "    </tr>\n",
       "    <tr>\n",
       "      <th>44876</th>\n",
       "      <td>8900</td>\n",
       "      <td>1</td>\n",
       "      <td>-1.4801</td>\n",
       "    </tr>\n",
       "    <tr>\n",
       "      <th>43576</th>\n",
       "      <td>1210</td>\n",
       "      <td>1</td>\n",
       "      <td>-1.9300</td>\n",
       "    </tr>\n",
       "    <tr>\n",
       "      <th>45541</th>\n",
       "      <td>16772</td>\n",
       "      <td>1</td>\n",
       "      <td>-2.9924</td>\n",
       "    </tr>\n",
       "    <tr>\n",
       "      <th>46101</th>\n",
       "      <td>20798</td>\n",
       "      <td>1</td>\n",
       "      <td>-4.1613</td>\n",
       "    </tr>\n",
       "  </tbody>\n",
       "</table>\n",
       "<p>891 rows × 3 columns</p>\n",
       "</div>"
      ],
      "text/plain": [
       "                     CUSTOMER_ID  QTY_ORDERS      REVENUE\n",
       "INVITER_CUSTOMER_ID                                      \n",
       "43212                        537         752  214924.3695\n",
       "537                        19674         300   43223.2377\n",
       "44344                       7846         133   28080.9605\n",
       "44100                       6168         223   21731.5239\n",
       "43161                        447          73   13928.3513\n",
       "...                          ...         ...          ...\n",
       "43160                        446           1      -1.2866\n",
       "44876                       8900           1      -1.4801\n",
       "43576                       1210           1      -1.9300\n",
       "45541                      16772           1      -2.9924\n",
       "46101                      20798           1      -4.1613\n",
       "\n",
       "[891 rows x 3 columns]"
      ]
     },
     "execution_count": 25,
     "metadata": {},
     "output_type": "execute_result"
    }
   ],
   "source": [
    "df_group= df.groupby([\"INVITER_CUSTOMER_ID\"]).sum().sort_values(\"REVENUE\", ascending=False)\n",
    "df_group"
   ]
  },
  {
   "cell_type": "markdown",
   "metadata": {},
   "source": [
    "We need the inviters who brought more than 3,000 € revenue to the company."
   ]
  },
  {
   "cell_type": "code",
   "execution_count": 26,
   "metadata": {
    "id": "7dofQUFLd4FE"
   },
   "outputs": [
    {
     "data": {
      "text/html": [
       "<div>\n",
       "<style scoped>\n",
       "    .dataframe tbody tr th:only-of-type {\n",
       "        vertical-align: middle;\n",
       "    }\n",
       "\n",
       "    .dataframe tbody tr th {\n",
       "        vertical-align: top;\n",
       "    }\n",
       "\n",
       "    .dataframe thead th {\n",
       "        text-align: right;\n",
       "    }\n",
       "</style>\n",
       "<table border=\"1\" class=\"dataframe\">\n",
       "  <thead>\n",
       "    <tr style=\"text-align: right;\">\n",
       "      <th></th>\n",
       "      <th>CUSTOMER_ID</th>\n",
       "      <th>QTY_ORDERS</th>\n",
       "      <th>REVENUE</th>\n",
       "    </tr>\n",
       "    <tr>\n",
       "      <th>INVITER_CUSTOMER_ID</th>\n",
       "      <th></th>\n",
       "      <th></th>\n",
       "      <th></th>\n",
       "    </tr>\n",
       "  </thead>\n",
       "  <tbody>\n",
       "    <tr>\n",
       "      <th>43212</th>\n",
       "      <td>537</td>\n",
       "      <td>752</td>\n",
       "      <td>214924.3695</td>\n",
       "    </tr>\n",
       "    <tr>\n",
       "      <th>537</th>\n",
       "      <td>19674</td>\n",
       "      <td>300</td>\n",
       "      <td>43223.2377</td>\n",
       "    </tr>\n",
       "    <tr>\n",
       "      <th>44344</th>\n",
       "      <td>7846</td>\n",
       "      <td>133</td>\n",
       "      <td>28080.9605</td>\n",
       "    </tr>\n",
       "    <tr>\n",
       "      <th>44100</th>\n",
       "      <td>6168</td>\n",
       "      <td>223</td>\n",
       "      <td>21731.5239</td>\n",
       "    </tr>\n",
       "    <tr>\n",
       "      <th>43161</th>\n",
       "      <td>447</td>\n",
       "      <td>73</td>\n",
       "      <td>13928.3513</td>\n",
       "    </tr>\n",
       "  </tbody>\n",
       "</table>\n",
       "</div>"
      ],
      "text/plain": [
       "                     CUSTOMER_ID  QTY_ORDERS      REVENUE\n",
       "INVITER_CUSTOMER_ID                                      \n",
       "43212                        537         752  214924.3695\n",
       "537                        19674         300   43223.2377\n",
       "44344                       7846         133   28080.9605\n",
       "44100                       6168         223   21731.5239\n",
       "43161                        447          73   13928.3513"
      ]
     },
     "execution_count": 26,
     "metadata": {},
     "output_type": "execute_result"
    }
   ],
   "source": [
    "df_new= df_group.loc[ (df_group['REVENUE'] > 3000)]\n",
    "\n",
    "df_new.head()\n"
   ]
  },
  {
   "cell_type": "markdown",
   "metadata": {},
   "source": [
    "We write the customer list to a csv file:"
   ]
  },
  {
   "cell_type": "code",
   "execution_count": 27,
   "metadata": {},
   "outputs": [],
   "source": [
    "df_final=df_new[ [ 'REVENUE']]\n",
    "\n",
    "df_final.to_csv('customer_list.csv', sep=',', encoding='utf-8')\n"
   ]
  },
  {
   "cell_type": "markdown",
   "metadata": {},
   "source": [
    "Some of the inviter IDs with high revenue:"
   ]
  },
  {
   "cell_type": "code",
   "execution_count": 28,
   "metadata": {},
   "outputs": [
    {
     "data": {
      "text/html": [
       "<div>\n",
       "<style scoped>\n",
       "    .dataframe tbody tr th:only-of-type {\n",
       "        vertical-align: middle;\n",
       "    }\n",
       "\n",
       "    .dataframe tbody tr th {\n",
       "        vertical-align: top;\n",
       "    }\n",
       "\n",
       "    .dataframe thead th {\n",
       "        text-align: right;\n",
       "    }\n",
       "</style>\n",
       "<table border=\"1\" class=\"dataframe\">\n",
       "  <thead>\n",
       "    <tr style=\"text-align: right;\">\n",
       "      <th></th>\n",
       "      <th>INVITER_CUSTOMER_ID</th>\n",
       "      <th>REVENUE</th>\n",
       "    </tr>\n",
       "  </thead>\n",
       "  <tbody>\n",
       "    <tr>\n",
       "      <th>0</th>\n",
       "      <td>43212</td>\n",
       "      <td>214924.3695</td>\n",
       "    </tr>\n",
       "    <tr>\n",
       "      <th>1</th>\n",
       "      <td>537</td>\n",
       "      <td>43223.2377</td>\n",
       "    </tr>\n",
       "    <tr>\n",
       "      <th>2</th>\n",
       "      <td>44344</td>\n",
       "      <td>28080.9605</td>\n",
       "    </tr>\n",
       "    <tr>\n",
       "      <th>3</th>\n",
       "      <td>44100</td>\n",
       "      <td>21731.5239</td>\n",
       "    </tr>\n",
       "    <tr>\n",
       "      <th>4</th>\n",
       "      <td>43161</td>\n",
       "      <td>13928.3513</td>\n",
       "    </tr>\n",
       "    <tr>\n",
       "      <th>5</th>\n",
       "      <td>42951</td>\n",
       "      <td>12217.9504</td>\n",
       "    </tr>\n",
       "    <tr>\n",
       "      <th>6</th>\n",
       "      <td>43955</td>\n",
       "      <td>11415.5129</td>\n",
       "    </tr>\n",
       "    <tr>\n",
       "      <th>7</th>\n",
       "      <td>43016</td>\n",
       "      <td>10230.1639</td>\n",
       "    </tr>\n",
       "    <tr>\n",
       "      <th>8</th>\n",
       "      <td>42935</td>\n",
       "      <td>10222.9525</td>\n",
       "    </tr>\n",
       "    <tr>\n",
       "      <th>9</th>\n",
       "      <td>43092</td>\n",
       "      <td>10049.3595</td>\n",
       "    </tr>\n",
       "    <tr>\n",
       "      <th>10</th>\n",
       "      <td>43043</td>\n",
       "      <td>9696.6379</td>\n",
       "    </tr>\n",
       "    <tr>\n",
       "      <th>11</th>\n",
       "      <td>16399</td>\n",
       "      <td>8458.9134</td>\n",
       "    </tr>\n",
       "    <tr>\n",
       "      <th>12</th>\n",
       "      <td>43958</td>\n",
       "      <td>7277.8273</td>\n",
       "    </tr>\n",
       "    <tr>\n",
       "      <th>13</th>\n",
       "      <td>43748</td>\n",
       "      <td>6821.9378</td>\n",
       "    </tr>\n",
       "    <tr>\n",
       "      <th>14</th>\n",
       "      <td>43267</td>\n",
       "      <td>6715.5147</td>\n",
       "    </tr>\n",
       "  </tbody>\n",
       "</table>\n",
       "</div>"
      ],
      "text/plain": [
       "    INVITER_CUSTOMER_ID      REVENUE\n",
       "0                 43212  214924.3695\n",
       "1                   537   43223.2377\n",
       "2                 44344   28080.9605\n",
       "3                 44100   21731.5239\n",
       "4                 43161   13928.3513\n",
       "5                 42951   12217.9504\n",
       "6                 43955   11415.5129\n",
       "7                 43016   10230.1639\n",
       "8                 42935   10222.9525\n",
       "9                 43092   10049.3595\n",
       "10                43043    9696.6379\n",
       "11                16399    8458.9134\n",
       "12                43958    7277.8273\n",
       "13                43748    6821.9378\n",
       "14                43267    6715.5147"
      ]
     },
     "execution_count": 28,
     "metadata": {},
     "output_type": "execute_result"
    }
   ],
   "source": [
    "df_final=pd.read_csv('customer_list.csv')\n",
    "df_final.head(15)"
   ]
  },
  {
   "cell_type": "markdown",
   "metadata": {},
   "source": [
    "Here we visualize the inviters with high revenue:"
   ]
  },
  {
   "cell_type": "code",
   "execution_count": 29,
   "metadata": {},
   "outputs": [
    {
     "data": {
      "image/png": "[encoded data removed]",
      "text/plain": [
       "<Figure size 1440x640 with 1 Axes>"
      ]
     },
     "metadata": {
      "needs_background": "light"
     },
     "output_type": "display_data"
    }
   ],
   "source": [
    "\n",
    "counter = Counter(df_final['INVITER_CUSTOMER_ID'].tolist() )\n",
    "\n",
    "revenue=[]\n",
    "\n",
    "for index, row in df_final.iterrows():\n",
    "    \n",
    "    revenue.append((int(row['INVITER_CUSTOMER_ID']), row['REVENUE']))\n",
    "\n",
    "\n",
    "final_list= sorted( revenue , key=lambda x: x[1], reverse=True)\n",
    "\n",
    "\n",
    "ids, freq=[], []\n",
    "\n",
    "for i, j in final_list:\n",
    "    \n",
    "     ids.append(i)\n",
    "     freq.append(j)\n",
    "    \n",
    "\n",
    "from matplotlib.pyplot import figure\n",
    "\n",
    "figure(figsize=(18, 8), dpi=80)\n",
    "\n",
    "height = freq\n",
    "\n",
    "bars = tuple(ids)\n",
    "y_pos = np.arange(len(bars))\n",
    "\n",
    "plt.bar(y_pos, height, color=\"g\", width=0.9)\n",
    "plt.xticks(y_pos, bars)\n",
    "\n",
    "\n",
    "plt.title('Inviters with high Revenue for company', fontsize=16)\n",
    "\n",
    "plt.ylabel('Revenue', fontsize=15)\n",
    "plt.xlabel('Inviter ID', fontsize=15)\n",
    "\n",
    "plt.xticks(rotation=90)\n",
    "plt.tick_params(axis='both',labelsize=15)\n"
   ]
  },
  {
   "cell_type": "markdown",
   "metadata": {},
   "source": [
    "It can be seen who (customer ID) can be selected as a potential inviter to earn more revenue for the company."
   ]
  },
  {
   "cell_type": "markdown",
   "metadata": {},
   "source": [
    "## Additional Work\n",
    "\n",
    "\n",
    "We can also follow the invitation chain to calculate the overall revenue that friends of friend can bring to the company."
   ]
  },
  {
   "cell_type": "code",
   "execution_count": null,
   "metadata": {
    "colab": {
     "base_uri": "https://localhost:8080/"
    },
    "id": "XEP9Ex5geC9x",
    "outputId": "79f2af35-9f2a-4afb-ca14-2597ff498e7f"
   },
   "outputs": [],
   "source": []
  }
 ],
 "metadata": {
  "accelerator": "GPU",
  "colab": {
   "collapsed_sections": [],
   "name": "Untitled0.ipynb",
   "provenance": []
  },
  "kernelspec": {
   "display_name": "Python 3",
   "language": "python",
   "name": "python3"
  },
  "language_info": {
   "codemirror_mode": {
    "name": "ipython",
    "version": 3
   },
   "file_extension": ".py",
   "mimetype": "text/x-python",
   "name": "python",
   "nbconvert_exporter": "python",
   "pygments_lexer": "ipython3",
   "version": "3.8.5"
  }
 },
 "nbformat": 4,
 "nbformat_minor": 1
}
